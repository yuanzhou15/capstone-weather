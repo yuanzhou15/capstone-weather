{
 "cells": [
  {
   "cell_type": "code",
   "execution_count": null,
   "metadata": {},
   "outputs": [],
   "source": [
    "import numpy as np\n",
    "import matplotlib.pyplot as plt\n",
    "import pylab as pl\n",
    "import matplotlib.animation as animation\n",
    "# This is how we can import src module from sibling module\n",
    "import os, sys\n",
    "nb_dir = os.path.split(os.getcwd())[0]\n",
    "if nb_dir not in sys.path: sys.path.append(nb_dir)\n",
    "#######################\n",
    "from src import wdata\n",
    "from netCDF4 import Dataset\n",
    "# import seaborn as sns;\n",
    "from src.wdata import Sat, Radar\n",
    "from skimage.transform import resize\n",
    "from sklearn.utils import shuffle\n",
    "%matplotlib nbagg\n"
   ]
  },
  {
   "cell_type": "code",
   "execution_count": null,
   "metadata": {},
   "outputs": [],
   "source": [
    "radar_ = [i for mo in [7,8,9] for i in Radar.getMonth(2017,mo)]"
   ]
  },
  {
   "cell_type": "code",
   "execution_count": null,
   "metadata": {},
   "outputs": [],
   "source": [
    "radavgs = map(lambda (_,x): 100.0*np.sum(x)/(1.0*x.shape[0]*x.shape[1]), radar_)\n",
    "plt.figure()\n",
    "plt.xticks(np.arange(0,100, 1))\n",
    "# plt.setXlim([0,100])\n",
    "# plt.xlim = (0,100)\n",
    "# s = plt.hist(radavgs,bins=20)\n",
    "plt.yticks(np.arange(0, 1.1, .1))\n",
    "count, avg = np.histogram(radavgs)\n",
    "count = count*1.0/len(radar_)\n",
    "(count, avg)\n",
    "CY = np.cumsum(count)\n",
    "plt.plot(avg,[0]+[i for i in CY],'r--')\n",
    "plt.grid()\n",
    "pl.title(\"How sparse/empty are Radar images?\")\n",
    "pl.xlabel('Sparsity (%) greater==less sparse')\n",
    "pl.ylabel('num of images')\n",
    "plt.plot([1.75,1.75],[0,1], color='blue')\n",
    "plt.plot([0,9],[0.59,0.58], color='blue')"
   ]
  },
  {
   "cell_type": "code",
   "execution_count": null,
   "metadata": {},
   "outputs": [],
   "source": [
    "band2, radar = [], []\n",
    "\n",
    "for tup in radar_:\n",
    "    if Radar.isSparse(tup[1]): continue\n",
    "    ds = Sat.getSatFromRad(tup, 2, 0)\n",
    "    if ds: \n",
    "        band2.append(Sat.getAndClose(ds))\n",
    "        radar.append(resize(tup[1], (52,200)))"
   ]
  },
  {
   "cell_type": "code",
   "execution_count": null,
   "metadata": {},
   "outputs": [],
   "source": [
    "print 'total radar: %d    total sat band 2 (Hourly.. using 1st halfhr): %d'%(len(radar_), len([Sat.getAndClose(i) for mo in [7,8,9] for i in Sat.getMonth(2017,mo,2) if i.filepath()[-33:][18:20] == '15']))\n",
    "print 'Overall Sat,Rad pairs:', len([1 for i in radar_ if Sat.getSatFromRad(i,2,0)])\n",
    "print 'Without sparse radar images', len(radar)"
   ]
  },
  {
   "cell_type": "code",
   "execution_count": null,
   "metadata": {},
   "outputs": [],
   "source": [
    "print len(set([i for i in wdata.cached_listdir_sat if i[18:20] == '15' and '_02.'in i]))\n",
    "print len(set([i for i in wdata.cached_listdir_sat if i[18:20] == '45' and '_02.'in i]))"
   ]
  },
  {
   "cell_type": "code",
   "execution_count": null,
   "metadata": {},
   "outputs": [],
   "source": []
  }
 ],
 "metadata": {
  "kernelspec": {
   "display_name": "Python 2",
   "language": "python",
   "name": "python2"
  },
  "language_info": {
   "codemirror_mode": {
    "name": "ipython",
    "version": 2
   },
   "file_extension": ".py",
   "mimetype": "text/x-python",
   "name": "python",
   "nbconvert_exporter": "python",
   "pygments_lexer": "ipython2",
   "version": "2.7.14"
  }
 },
 "nbformat": 4,
 "nbformat_minor": 2
}
