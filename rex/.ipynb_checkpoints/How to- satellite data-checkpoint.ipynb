{
 "cells": [
  {
   "cell_type": "markdown",
   "metadata": {},
   "source": [
    "# Satellite Functions!\n",
    "The purpose of this notebook is to share my knowledge on how to play around with the Satellite Data!\n",
    "\n",
    "Please pay close attention to the files you download! If you look close enough you will realize that the files come in bunches of 5. Example:\n",
    "\n",
    "goes13.2017.182.001519.BAND_01.nc size: 30M\n",
    "goes13.2017.182.001519.BAND_02.nc size: 124k\n",
    "goes13.2017.182.001519.BAND_03.nc size: 124k\n",
    "goes13.2017.182.001519.BAND_04.nc size: 124k\n",
    "goes13.2017.182.001519.BAND_05.nc size: 124k\n",
    "\n",
    "These all correspond to the same image. Band_01 is what i call the HD picture. It displays clouds very nicely and even the shadows cast on the earth by the clouds. The rest of the bands are super low resolution versions of the image. I recommend you look at all bands of the same image so you get a better understanding. All bands are different.\n",
    "\n",
    "# Anaconda Navigator!\n",
    "It was strongly recommended by prof Grossberg that we use the Anaconda Navigator to install \"outside\" packages. In order to play around with this data you will need a package called \"netcdf4\"\n",
    "\n",
    "Simply follow these steps to get it without any issues-\n",
    "\n",
    "1) Load up the Anaconda Navigator\n",
    "2) Click on the Environments tab on the left hand side\n",
    "3) Click on the down arrow next to the \"Installed\" drop down menu\n",
    "4) Click on \"Not Installed\"\n",
    "5) In the Search Package box type in \"net\"\n",
    "6) There should be a package called netcdf4\n",
    "7) Check the box, click apply, and wait!\n",
    "\n",
    "# Congratulations!\n",
    "You should now be able to use some of the functions below to help you get started with this satellite data!"
   ]
  },
  {
   "cell_type": "code",
   "execution_count": null,
   "metadata": {
    "collapsed": true
   },
   "outputs": [],
   "source": [
    "# MANDATORY IMPORTS!\n",
    "from netCDF4 import Dataset # This is the package you just got\n",
    "import numpy as np # just import it\n",
    "import matplotlib.pyplot as plt # simple display\n",
    "%matplotlib inline"
   ]
  },
  {
   "cell_type": "code",
   "execution_count": null,
   "metadata": {
    "collapsed": true
   },
   "outputs": [],
   "source": [
    "def sat_display(filepath, style='gray'):\n",
    "    \"\"\"\n",
    "    filepath is just the path to the satellite data ending in extension \".nc\"\n",
    "    style is just a variable used for cmap. It is defaulted to \"gray\" for grayscale images.\n",
    "    This function displays the image hidden inside the file\n",
    "    \"\"\"\n",
    "    \n",
    "    nc_fid = Dataset(filepath, 'r') # \"opening\" the satellite data file \n",
    "    #print(nc_fid) # this should print out all the information of the file, similar to a pandas dataframe\n",
    "    data = nc_fid.variables['data'][:] # extracting the data we want from the file\n",
    "    #print(data) # this should print out a 3D array where data(time, y, x)\n",
    "    # time has size 1 in this case so we can easily get a 2D array by using data[0]\n",
    "    plt.imshow(data[0], cmap=style, origin='lower')\n",
    "    nc_fid.close() # closing the file after using it"
   ]
  },
  {
   "cell_type": "code",
   "execution_count": null,
   "metadata": {
    "collapsed": true
   },
   "outputs": [],
   "source": [
    "def sat_array(filepath):\n",
    "    \"\"\"\n",
    "    filepath is just the path to the satellite data ending in extension \".nc\"\n",
    "    This function returns a 2D array of the satellite data provided\n",
    "    \"\"\"\n",
    "    nc_fid = Dataset(filepath, 'r')\n",
    "    data = nc_fid.variables['data'][:]\n",
    "    nc_fid.close()\n",
    "    return data[0]"
   ]
  },
  {
   "cell_type": "code",
   "execution_count": null,
   "metadata": {
    "collapsed": true
   },
   "outputs": [],
   "source": [
    "def sat_lat(filepath):\n",
    "    \"\"\"\n",
    "    this function returns the 2D numpy array for this images lattitude\n",
    "    \"\"\"\n",
    "    nc_fid = Dataset(filepath, 'r')\n",
    "    data = nc_fid.variables['lat'][:]\n",
    "    nc_fid.close()\n",
    "    return data"
   ]
  },
  {
   "cell_type": "code",
   "execution_count": null,
   "metadata": {
    "collapsed": true
   },
   "outputs": [],
   "source": [
    "def sat_lon(filepath):\n",
    "    \"\"\"\n",
    "    this function returns the 2D numpy array for this images longitude\n",
    "    \"\"\"\n",
    "    nc_fid = Dataset(filepath, 'r')\n",
    "    data = nc_fid.variables['lon'][:]\n",
    "    nc_fid.close()\n",
    "    return data"
   ]
  },
  {
   "cell_type": "code",
   "execution_count": null,
   "metadata": {},
   "outputs": [],
   "source": [
    "# here is an example\n",
    "day_182_band_01 = 'satellite_data/goes13.2017.182.001519.BAND_01.nc' # filepath\n",
    "sat_display(day_182_band_01, 'rainbow')"
   ]
  },
  {
   "cell_type": "code",
   "execution_count": null,
   "metadata": {},
   "outputs": [],
   "source": [
    "day_182_band_02 = 'satellite_data/goes13.2017.182.001519.BAND_02.nc' # filepath\n",
    "sat_display(day_182_band_02, 'rainbow')"
   ]
  },
  {
   "cell_type": "code",
   "execution_count": null,
   "metadata": {
    "collapsed": true
   },
   "outputs": [],
   "source": [
    "# here is an example\n",
    "nc_f = 'satellite_data/goes13.2017.182.001519.BAND_03.nc' # filepath\n",
    "sat_display(nc_f)"
   ]
  },
  {
   "cell_type": "code",
   "execution_count": null,
   "metadata": {
    "collapsed": true
   },
   "outputs": [],
   "source": [
    "# here is an example\n",
    "nc_f = 'satellite_data/goes13.2017.182.001519.BAND_04.nc' # filepath\n",
    "sat_display(nc_f)"
   ]
  },
  {
   "cell_type": "code",
   "execution_count": null,
   "metadata": {
    "collapsed": true
   },
   "outputs": [],
   "source": [
    "# here is an example\n",
    "nc_f = 'satellite_data/goes13.2017.182.001519.BAND_06.nc' # filepath\n",
    "sat_display(nc_f)"
   ]
  },
  {
   "cell_type": "code",
   "execution_count": null,
   "metadata": {
    "collapsed": true
   },
   "outputs": [],
   "source": [
    "data = sat_array(nc_f)\n",
    "print(\"The type of this is:\", type(data))\n",
    "print(\"The shape of this numpy.ndarray is:\", np.shape(data))\n",
    "print(data)"
   ]
  },
  {
   "cell_type": "code",
   "execution_count": null,
   "metadata": {
    "collapsed": true
   },
   "outputs": [],
   "source": [
    "lattitude = sat_lat(nc_f)"
   ]
  },
  {
   "cell_type": "code",
   "execution_count": null,
   "metadata": {
    "collapsed": true
   },
   "outputs": [],
   "source": [
    "print(lattitude)"
   ]
  },
  {
   "cell_type": "code",
   "execution_count": null,
   "metadata": {
    "collapsed": true
   },
   "outputs": [],
   "source": [
    "longitude = sat_lon(nc_f)"
   ]
  },
  {
   "cell_type": "code",
   "execution_count": null,
   "metadata": {
    "collapsed": true
   },
   "outputs": [],
   "source": [
    "np.set_printoptions(threshold=np.inf)\n",
    "print(longitude)"
   ]
  },
  {
   "cell_type": "code",
   "execution_count": null,
   "metadata": {
    "collapsed": true
   },
   "outputs": [],
   "source": [
    "band_01 = Dataset(nc_f, 'r')\n",
    "print(band_01)"
   ]
  },
  {
   "cell_type": "code",
   "execution_count": null,
   "metadata": {
    "collapsed": true
   },
   "outputs": [],
   "source": [
    "band_01.variables['imageDate']"
   ]
  },
  {
   "cell_type": "code",
   "execution_count": null,
   "metadata": {
    "collapsed": true
   },
   "outputs": [],
   "source": [
    "band_01_f = 'satellite_data/goes13.2017.182.001519.BAND_01.nc'"
   ]
  },
  {
   "cell_type": "code",
   "execution_count": null,
   "metadata": {
    "collapsed": true
   },
   "outputs": [],
   "source": [
    "band_01 = Dataset(band_01_f, 'r')"
   ]
  },
  {
   "cell_type": "code",
   "execution_count": null,
   "metadata": {
    "collapsed": true
   },
   "outputs": [],
   "source": [
    "sat_display('satellite_data/goes13.2017.182.001519.BAND_01.nc')"
   ]
  },
  {
   "cell_type": "code",
   "execution_count": null,
   "metadata": {
    "collapsed": true
   },
   "outputs": [],
   "source": [
    "sat_display('satellite_data/goes13.2017.182.001519.BAND_02.nc')"
   ]
  },
  {
   "cell_type": "code",
   "execution_count": null,
   "metadata": {
    "collapsed": true
   },
   "outputs": [],
   "source": [
    "sat_display('satellite_data/goes13.2017.182.001519.BAND_03.nc')"
   ]
  },
  {
   "cell_type": "code",
   "execution_count": null,
   "metadata": {
    "collapsed": true
   },
   "outputs": [],
   "source": []
  }
 ],
 "metadata": {
  "kernelspec": {
   "display_name": "Python 3",
   "language": "python",
   "name": "python3"
  },
  "language_info": {
   "codemirror_mode": {
    "name": "ipython",
    "version": 3
   },
   "file_extension": ".py",
   "mimetype": "text/x-python",
   "name": "python",
   "nbconvert_exporter": "python",
   "pygments_lexer": "ipython3",
   "version": "3.6.3"
  }
 },
 "nbformat": 4,
 "nbformat_minor": 2
}
