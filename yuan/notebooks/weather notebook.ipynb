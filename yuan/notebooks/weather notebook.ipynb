{
 "cells": [
  {
   "cell_type": "code",
   "execution_count": null,
   "metadata": {},
   "outputs": [],
   "source": [
    "def data_read_display(filename):\n",
    "    \"\"\" \n",
    "\twhen passed the full filename (path plus filename) of a deep learning dataset\n",
    "\tThis function reads the binary data and rescales it\n",
    "\treforms it from vector into array of the proper size\n",
    "\trails the data off at suggested maximum and minimum values\n",
    "\tdisplays the data as grayscale on black background\n",
    "    \"\"\"\n",
    "\n",
    "    import numpy as np\n",
    "    import matplotlib.pyplot as plt\n",
    "\n",
    "    dims = (126,201)   # rows, columns\n",
    "    minmax = [0,0]\t# suggested data limits for display purposes\n",
    "    \n",
    "    # set minmax = [0,0] to use minimum and maximum of each file (excluding missing data)\n",
    "    # [0,30] mm/hr is a good range for rainfall\n",
    "    data = np.fromfile(filename,dtype='int16',count=-1,sep='') # 2 byte integers\n",
    "    print('size of read vector',len(data))\n",
    "    data = np.reshape(data,dims)\n",
    "    print(data[98]) #max exists in the 98th element row\n",
    "    \n",
    "    #print('elemnt of max', np.argmax(data))\n",
    "    print('np.max(data)', np.max(data))\n",
    "    print('np.min(data)', np.min(data))\n",
    "    if (np.max(data) > 0):\n",
    "\n",
    "        # scale data to between 0 and 1 then rail off the extremes\n",
    "        if (minmax[0] > 0 or minmax[1] > 0):\n",
    "            data = (data - minmax[0])/(minmax[1] - minmax[0])\n",
    "            data[(data < minmax[0])] = minmax[0]\n",
    "            data[(data > minmax[1])] = minmax[1]\n",
    "        else:\n",
    "            data = (data - np.min(data))/(np.max(data) - np.min(data))\n",
    "\n",
    "    else:\n",
    "        print('empty hour!')\n",
    "\n",
    "    # display image as grayscale\n",
    "    plt.ion()  # needed if running from command line\n",
    "    plt.imshow(data, cmap='Paired', origin='lower')\n",
    "    \n",
    "data_read_display(\"/home/yuan/Documents/Spring-2018/Senior Design/Weather/radar-data/radar.20080601.00.dat\")\n",
    "\n",
    "\n",
    "    "
   ]
  },
  {
   "cell_type": "code",
   "execution_count": null,
   "metadata": {},
   "outputs": [],
   "source": [
    "import os\n",
    "for filename in os.listdir(\"/home/yuan/Documents/Spring-2018/Senior Design/Weather/radar-data\"):\n",
    "    path= \"/home/yuan/Documents/Spring-2018/Senior Design/Weather/radar-data/\" + filename\n",
    "    data_read_display(path)"
   ]
  },
  {
   "cell_type": "code",
   "execution_count": null,
   "metadata": {},
   "outputs": [],
   "source": [
    "data_read_display(\"/home/yuan/Documents/Spring-2018/Senior Design/Weather/radar-data/radar.20080601.00.dat\")"
   ]
  },
  {
   "cell_type": "code",
   "execution_count": null,
   "metadata": {},
   "outputs": [],
   "source": [
    "data_read_display(\"/home/yuan/Documents/Spring-2018/Senior Design/Weather/radar-data/radar.20080601.01.dat\")"
   ]
  },
  {
   "cell_type": "code",
   "execution_count": null,
   "metadata": {},
   "outputs": [],
   "source": [
    "data_read_display(\"/home/yuan/Documents/Spring-2018/Senior Design/Weather/radar-data/radar.20080601.02.dat\")"
   ]
  },
  {
   "cell_type": "code",
   "execution_count": null,
   "metadata": {},
   "outputs": [],
   "source": [
    "data_read_display(\"/home/yuan/Documents/Spring-2018/Senior Design/Weather/radar-data/radar.20080601.03.dat\")"
   ]
  },
  {
   "cell_type": "code",
   "execution_count": null,
   "metadata": {},
   "outputs": [],
   "source": [
    "data_read_display(\"/home/yuan/Documents/Spring-2018/Senior Design/Weather/radar-data/radar.20080601.04.dat\")"
   ]
  },
  {
   "cell_type": "code",
   "execution_count": null,
   "metadata": {},
   "outputs": [],
   "source": [
    "data_read_display(\"/home/yuan/Documents/Spring-2018/Senior Design/Weather/radar-data/radar.20080601.05.dat\")"
   ]
  },
  {
   "cell_type": "code",
   "execution_count": null,
   "metadata": {},
   "outputs": [],
   "source": [
    "from netCDF4 import Dataset\n",
    "import numpy as np\n",
    "import matplotlib.pyplot as plt\n",
    "\n",
    "data = Dataset('/home/yuan/Documents/Spring-2018/Senior Design/Weather/Satellite-data/goes13.2017.182.001519.BAND_06 (1).nc', 'r')\n",
    "print(data)\n",
    "print(data.variables['time'])\n",
    "\n",
    "for k in data.variables:\n",
    "    print (k)\n",
    "\n",
    "print(data['startLine'])\n",
    "\n"
   ]
  },
  {
   "cell_type": "markdown",
   "metadata": {},
   "source": [
    "notes: the data is just data, but lon and lat give you the long and lat of each data point. long and lat are also in their own seperate variables. \n",
    "\n",
    "variables we can work with:\n",
    "data, "
   ]
  },
  {
   "cell_type": "code",
   "execution_count": null,
   "metadata": {},
   "outputs": [],
   "source": [
    "\n",
    "# MANDATORY IMPORTS!\n",
    "from netCDF4 import Dataset\n",
    "import numpy as np \n",
    "import matplotlib.pyplot as plt \n",
    "%matplotlib inline\n",
    "\n",
    "def sat_display(filepath, style='gray'):\n",
    "    \"\"\"\n",
    "    filepath is just the path to the satellite data ending in extension \".nc\"\n",
    "    style is just a variable used for cmap. It is defaulted to \"gray\" for grayscale images.\n",
    "    This function displays the image hidden inside the file\n",
    "    \"\"\"\n",
    "    \n",
    "    nc_fid = Dataset(filepath, 'r') \n",
    "    data = nc_fid.variables['data'][:] \n",
    "    plt.imshow(data[0], cmap=style, origin='lower')\n",
    "    nc_fid.close() \n",
    "\n",
    "sat_display('/home/yuan/Documents/Spring-2018/Senior Design/Weather/Satellite-data/goes13.2017.182.001519.BAND_01 (1).nc', 'r')"
   ]
  },
  {
   "cell_type": "code",
   "execution_count": null,
   "metadata": {},
   "outputs": [],
   "source": [
    "from sklearn import datasets, svm, metrics\n",
    "import matplotlib.pyplot as plt"
   ]
  },
  {
   "cell_type": "code",
   "execution_count": null,
   "metadata": {},
   "outputs": [],
   "source": [
    "digits = datasets.load_digits()\n",
    "data = digits['images']\n",
    "print(data.shape)\n",
    "print(data[0])\n",
    "plt.imshow(data[83], cmap = 'gray', origin='lower')"
   ]
  },
  {
   "cell_type": "code",
   "execution_count": null,
   "metadata": {},
   "outputs": [],
   "source": [
    "images_and_labels = list(zip(digits.images, digits.target))"
   ]
  },
  {
   "cell_type": "code",
   "execution_count": null,
   "metadata": {},
   "outputs": [],
   "source": [
    "print(len(images_and_labels))"
   ]
  },
  {
   "cell_type": "code",
   "execution_count": null,
   "metadata": {},
   "outputs": [],
   "source": []
  }
 ],
 "metadata": {
  "kernelspec": {
   "display_name": "Python 3",
   "language": "python",
   "name": "python3"
  },
  "language_info": {
   "codemirror_mode": {
    "name": "ipython",
    "version": 3
   },
   "file_extension": ".py",
   "mimetype": "text/x-python",
   "name": "python",
   "nbconvert_exporter": "python",
   "pygments_lexer": "ipython3",
   "version": "3.6.3"
  }
 },
 "nbformat": 4,
 "nbformat_minor": 2
}
