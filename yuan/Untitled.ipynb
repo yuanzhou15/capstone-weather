{
 "cells": [
  {
   "cell_type": "code",
   "execution_count": 1,
   "metadata": {},
   "outputs": [
    {
     "data": {
      "text/plain": [
       "'\\nSat Start: July 2(182) - September 31()\\n184-195 --> since there is no 182 --> (July 4th - July 15th)\\n \\n#Radar Start: radar.20170702.00.dat\\n\\n\\nFiles I am going to use:\\nJuly 4th 17-18th hour (15 minute on of every hour for satellite)\\n'"
      ]
     },
     "execution_count": 1,
     "metadata": {},
     "output_type": "execute_result"
    }
   ],
   "source": [
    "import numpy as np\n",
    "import matplotlib.pyplot as plt\n",
    "import pylab as pl\n",
    "import matplotlib.animation as animation\n",
    "import os, sys\n",
    "nb_dir = os.path.split(os.getcwd())[0]\n",
    "if nb_dir not in sys.path: sys.path.append(nb_dir)\n",
    "from src import wdata\n",
    "import seaborn as sns;\n",
    "from skimage.transform import rescale, resize, downscale_local_mean\n",
    "\n",
    "'''\n",
    "Sat Start: July 2(182) - September 31()\n",
    "184-195 --> since there is no 182 --> (July 4th - July 15th)\n",
    " \n",
    "#Radar Start: radar.20170702.00.dat\n",
    "\n",
    "\n",
    "Files I am going to use:\n",
    "July 4th 17-18th hour (15 minute on of every hour for satellite)\n",
    "'''"
   ]
  },
  {
   "cell_type": "code",
   "execution_count": 2,
   "metadata": {},
   "outputs": [],
   "source": [
    "imgs2017 = wdata.Radar.getYear(2017)"
   ]
  },
  {
   "cell_type": "code",
   "execution_count": 54,
   "metadata": {},
   "outputs": [
    {
     "name": "stdout",
     "output_type": "stream",
     "text": [
      "(126, 201)\n"
     ]
    },
    {
     "data": {
      "text/plain": [
       "<matplotlib.image.AxesImage at 0x7f0c9e2cc470>"
      ]
     },
     "execution_count": 54,
     "metadata": {},
     "output_type": "execute_result"
    },
    {
     "data": {
      "image/png": "[encoded data removed]",
      "text/plain": [
       "<Figure size 432x288 with 1 Axes>"
      ]
     },
     "metadata": {},
     "output_type": "display_data"
    }
   ],
   "source": [
    "print(imgs2017[0][1].shape)\n",
    "image = imgs2017[0][1]\n",
    "plt.imshow(image, cmap='gray')"
   ]
  },
  {
   "cell_type": "code",
   "execution_count": 55,
   "metadata": {},
   "outputs": [
    {
     "name": "stdout",
     "output_type": "stream",
     "text": [
      "<class 'numpy.ndarray'>\n"
     ]
    },
    {
     "name": "stderr",
     "output_type": "stream",
     "text": [
      "/home/yuan/anaconda3/lib/python3.6/site-packages/skimage/transform/_warps.py:84: UserWarning: The default mode, 'constant', will be changed to 'reflect' in skimage 0.15.\n",
      "  warn(\"The default mode, 'constant', will be changed to 'reflect' in \"\n"
     ]
    },
    {
     "data": {
      "text/plain": [
       "<matplotlib.image.AxesImage at 0x7f0c9e22df98>"
      ]
     },
     "execution_count": 55,
     "metadata": {},
     "output_type": "execute_result"
    },
    {
     "data": {
      "image/png": "[encoded data removed]",
      "text/plain": [
       "<Figure size 432x288 with 1 Axes>"
      ]
     },
     "metadata": {},
     "output_type": "display_data"
    }
   ],
   "source": [
    "def resize_radar(radar_list): #radar will be the list of radar images, and shape will be the shape you want to resize it to\n",
    "    resized_list = []\n",
    "    for index in range(len(radar_list)):\n",
    "        #print(radar_list[index][0])\n",
    "        resized_radar = resize(radar_list[index][1], (52, 200))\n",
    "        #print(\"size of resized:\", resized_radar.shape)\n",
    "        resized_list.append(resized_radar)\n",
    "    return resized_list\n",
    "    \n",
    "test = resize_radar(imgs2017)\n",
    "print(type(test[0])) # now it seems like it returns a list of numpy arrays\n",
    "plt.imshow(test[0], cmap='gray')\n"
   ]
  },
  {
   "cell_type": "code",
   "execution_count": 24,
   "metadata": {},
   "outputs": [
    {
     "name": "stdout",
     "output_type": "stream",
     "text": [
      "<class 'numpy.ndarray'>\n",
      "[[1.52590219e-05 1.52590219e-05 1.52590219e-05 ... 1.52590219e-05\n",
      "  1.52590219e-05 1.52590219e-05]\n",
      " [1.52590219e-05 1.52590219e-05 1.52590219e-05 ... 1.52590219e-05\n",
      "  1.52590219e-05 1.52590219e-05]\n",
      " [1.52590219e-05 1.52590219e-05 1.52590219e-05 ... 1.52590219e-05\n",
      "  1.52590219e-05 1.52590219e-05]\n",
      " ...\n",
      " [1.52590219e-05 1.52590219e-05 1.52590219e-05 ... 1.52590219e-05\n",
      "  1.52590219e-05 1.52590219e-05]\n",
      " [1.52590219e-05 1.52590219e-05 1.52590219e-05 ... 1.52590219e-05\n",
      "  1.52590219e-05 1.52590219e-05]\n",
      " [1.52590219e-05 1.52590219e-05 1.52590219e-05 ... 1.52590219e-05\n",
      "  1.52590219e-05 1.52590219e-05]]\n"
     ]
    },
    {
     "name": "stderr",
     "output_type": "stream",
     "text": [
      "/home/yuan/anaconda3/lib/python3.6/site-packages/skimage/transform/_warps.py:84: UserWarning: The default mode, 'constant', will be changed to 'reflect' in skimage 0.15.\n",
      "  warn(\"The default mode, 'constant', will be changed to 'reflect' in \"\n"
     ]
    }
   ],
   "source": [
    "nparray = np.fromfile(\"/home/yuan/Documents/Spring-2018/Senior Design/Weather/new-radar-data/radar.20170311.18.dat\",dtype='int16',count=-1,sep='')\n",
    "image = np.reshape(nparray, (126,201))\n",
    "image_resized = resize(image, (52, 200))\n",
    "print(type(image_resized))\n",
    "print(image_resized)"
   ]
  },
  {
   "cell_type": "code",
   "execution_count": 7,
   "metadata": {},
   "outputs": [],
   "source": [
    "def data_read_display(data):\n",
    "    \"\"\" \n",
    "\twhen passed the full filename (path plus filename) of a deep learning dataset\n",
    "\tThis function reads the binary data and rescales it\n",
    "\treforms it from vector into array of the proper size\n",
    "\trails the data off at suggested maximum and minimum values\n",
    "\tdisplays the data as grayscale on black background\n",
    "    \"\"\"\n",
    "\n",
    "    import numpy as np\n",
    "    import matplotlib.pyplot as plt\n",
    "\n",
    "    dims = (126,201)   # rows, columns\n",
    "    minmax = [0,30]\t# suggested data limits for display purposes\n",
    "    \n",
    "    # set minmax = [0,0] to use minimum and maximum of each file (excluding missing data)\n",
    "    # [0,30] mm/hr is a good range for rainfall\n",
    "    \n",
    "    data = np.reshape(data,dims)\n",
    "\n",
    "    \n",
    "    #print('elemnt of max', np.argmax(data))\n",
    "    print('np.max(data)', np.max(data))\n",
    "    print('np.min(data)', np.min(data))\n",
    "    if (np.max(data) > 0):\n",
    "\n",
    "        # scale data to between 0 and 1 then rail off the extremes\n",
    "        if (minmax[0] > 0 or minmax[1] > 0):\n",
    "            data[(data < minmax[0])] = minmax[0]\n",
    "            data[(data > minmax[1])] = minmax[1]\n",
    "            data = (data - minmax[0])/(minmax[1] - minmax[0])\n",
    "        else:\n",
    "            data = (data - np.min(data))/(np.max(data) - np.min(data))\n",
    "\n",
    "    else:\n",
    "        print('empty hour!')\n",
    "\n",
    "    # display image as grayscale\n",
    "    plt.ion()  # needed if running from command line\n",
    "    plt.imshow(data, cmap='gray', origin='lower')  "
   ]
  },
  {
   "cell_type": "code",
   "execution_count": 8,
   "metadata": {},
   "outputs": [
    {
     "name": "stdout",
     "output_type": "stream",
     "text": [
      "np.max(data) 1.0\n",
      "np.min(data) 0.0\n"
     ]
    },
    {
     "data": {
      "image/png": "[encoded data removed]",
      "text/plain": [
       "<Figure size 432x288 with 1 Axes>"
      ]
     },
     "metadata": {},
     "output_type": "display_data"
    }
   ],
   "source": [
    "plot = data_read_display(test)"
   ]
  },
  {
   "cell_type": "code",
   "execution_count": 9,
   "metadata": {},
   "outputs": [],
   "source": [
    "def gettran_radar(n_of_files, radar_list):\n",
    "    short_list = radar_list[:10]\n",
    "    "
   ]
  },
  {
   "cell_type": "code",
   "execution_count": 11,
   "metadata": {},
   "outputs": [
    {
     "name": "stdout",
     "output_type": "stream",
     "text": [
      "The history saving thread hit an unexpected error (OperationalError('unable to open database file',)).History will not be written to the database."
     ]
    },
    {
     "name": "stderr",
     "output_type": "stream",
     "text": [
      "Exception in thread IPythonHistorySavingThread:\n",
      "Traceback (most recent call last):\n",
      "  File \"/home/yuan/.local/lib/python3.6/site-packages/IPython/core/history.py\", line 834, in run\n",
      "  File \"<decorator-gen-23>\", line 2, in writeout_cache\n",
      "  File \"/home/yuan/.local/lib/python3.6/site-packages/IPython/core/history.py\", line 58, in needs_sqlite\n",
      "  File \"/home/yuan/.local/lib/python3.6/site-packages/IPython/core/history.py\", line 780, in writeout_cache\n",
      "  File \"/home/yuan/.local/lib/python3.6/site-packages/IPython/core/history.py\", line 764, in _writeout_input_cache\n",
      "sqlite3.OperationalError: unable to open database file\n",
      "\n",
      "During handling of the above exception, another exception occurred:\n",
      "\n",
      "Traceback (most recent call last):\n",
      "  File \"/home/yuan/.local/lib/python3.6/site-packages/ipykernel/iostream.py\", line 97, in _event_pipe\n",
      "AttributeError: '_thread._local' object has no attribute 'event_pipe'\n",
      "\n",
      "During handling of the above exception, another exception occurred:\n",
      "\n",
      "Traceback (most recent call last):\n",
      "  File \"/home/yuan/anaconda3/lib/python3.6/threading.py\", line 916, in _bootstrap_inner\n",
      "  File \"<decorator-gen-24>\", line 2, in run\n",
      "  File \"/home/yuan/.local/lib/python3.6/site-packages/IPython/core/history.py\", line 58, in needs_sqlite\n",
      "  File \"/home/yuan/.local/lib/python3.6/site-packages/IPython/core/history.py\", line 837, in run\n",
      "  File \"/home/yuan/.local/lib/python3.6/site-packages/ipykernel/iostream.py\", line 376, in write\n",
      "  File \"/home/yuan/.local/lib/python3.6/site-packages/ipykernel/iostream.py\", line 203, in schedule\n",
      "  File \"/home/yuan/.local/lib/python3.6/site-packages/ipykernel/iostream.py\", line 101, in _event_pipe\n",
      "  File \"/home/yuan/.local/lib/python3.6/site-packages/zmq/sugar/context.py\", line 146, in socket\n",
      "  File \"/home/yuan/.local/lib/python3.6/site-packages/zmq/sugar/socket.py\", line 58, in __init__\n",
      "  File \"zmq/backend/cython/socket.pyx\", line 330, in zmq.backend.cython.socket.Socket.__init__\n",
      "zmq.error.ZMQError: Too many open files\n",
      "Unhandled exception in thread started by <bound method Thread._bootstrap of <HistorySavingThread(IPythonHistorySavingThread, started 139821952964352)>>\n",
      "Error in sys.excepthook:\n",
      "Traceback (most recent call last):\n",
      "\n",
      "\n",
      "During handling of the above exception, another exception occurred:\n",
      "\n",
      "\n",
      "\n",
      "Original exception was:\n",
      "Traceback (most recent call last):\n",
      "\n",
      "\n",
      "During handling of the above exception, another exception occurred:\n",
      "\n",
      "\n",
      "\n",
      "During handling of the above exception, another exception occurred:\n",
      "\n",
      "\n",
      "\n",
      "During handling of the above exception, another exception occurred:\n",
      "\n",
      "\n",
      "\n",
      "During handling of the above exception, another exception occurred:\n",
      "\n",
      "\n"
     ]
    },
    {
     "ename": "OSError",
     "evalue": "[Errno 24] Too many open files: b'/home/yuan/Documents/Spring-2018/Senior Design/Weather/Satellite-data/goes13.2017.182.001519.BAND_04.nc'",
     "output_type": "error",
     "traceback": [
      "\u001b[0;31m---------------------------------------------------------------------------\u001b[0m",
      "\u001b[0;31mOSError\u001b[0m                                   Traceback (most recent call last)",
      "\u001b[0;32m<ipython-input-11-bce19b08b92c>\u001b[0m in \u001b[0;36m<module>\u001b[0;34m()\u001b[0m\n\u001b[0;32m----> 1\u001b[0;31m \u001b[0mwdata\u001b[0m\u001b[0;34m.\u001b[0m\u001b[0mSat\u001b[0m\u001b[0;34m.\u001b[0m\u001b[0mgetYear\u001b[0m\u001b[0;34m(\u001b[0m\u001b[0;36m2017\u001b[0m\u001b[0;34m,\u001b[0m \u001b[0;36m4\u001b[0m\u001b[0;34m)\u001b[0m\u001b[0;34m\u001b[0m\u001b[0m\n\u001b[0m",
      "\u001b[0;32m~/Documents/Spring-2018/Senior Design/capstone-fork/src/wdata.py\u001b[0m in \u001b[0;36mgetYear\u001b[0;34m(y, band)\u001b[0m\n",
      "\u001b[0;32m~/Documents/Spring-2018/Senior Design/capstone-fork/src/wdata.py\u001b[0m in \u001b[0;36mgetMonth\u001b[0;34m(y, m, band)\u001b[0m\n",
      "\u001b[0;32m~/Documents/Spring-2018/Senior Design/capstone-fork/src/wdata.py\u001b[0m in \u001b[0;36mgetDay\u001b[0;34m(y, m, d, band)\u001b[0m\n",
      "\u001b[0;32m~/Documents/Spring-2018/Senior Design/capstone-fork/src/wdata.py\u001b[0m in \u001b[0;36mgetHalfHr\u001b[0;34m(y, m, d, hr, halfhr, band)\u001b[0m\n",
      "\u001b[0;32mnetCDF4/_netCDF4.pyx\u001b[0m in \u001b[0;36mnetCDF4._netCDF4.Dataset.__init__\u001b[0;34m()\u001b[0m\n",
      "\u001b[0;32mnetCDF4/_netCDF4.pyx\u001b[0m in \u001b[0;36mnetCDF4._netCDF4._ensure_nc_success\u001b[0;34m()\u001b[0m\n",
      "\u001b[0;31mOSError\u001b[0m: [Errno 24] Too many open files: b'/home/yuan/Documents/Spring-2018/Senior Design/Weather/Satellite-data/goes13.2017.182.001519.BAND_04.nc'"
     ]
    }
   ],
   "source": [
    "wdata.Sat.getYear(2017, 4)"
   ]
  },
  {
   "cell_type": "code",
   "execution_count": null,
   "metadata": {},
   "outputs": [],
   "source": []
  }
 ],
 "metadata": {
  "kernelspec": {
   "display_name": "Python 3",
   "language": "python",
   "name": "python3"
  },
  "language_info": {
   "codemirror_mode": {
    "name": "ipython",
    "version": 3
   },
   "file_extension": ".py",
   "mimetype": "text/x-python",
   "name": "python",
   "nbconvert_exporter": "python",
   "pygments_lexer": "ipython3",
   "version": "3.6.3"
  }
 },
 "nbformat": 4,
 "nbformat_minor": 2
}
