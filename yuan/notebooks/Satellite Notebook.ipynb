{
 "cells": [
  {
   "cell_type": "code",
   "execution_count": 30,
   "metadata": {},
   "outputs": [],
   "source": [
    "from netCDF4 import Dataset \n",
    "import numpy as np\n",
    "import matplotlib.pyplot as plt \n",
    "import seaborn as sns\n",
    "%matplotlib inline\n"
   ]
  },
  {
   "cell_type": "code",
   "execution_count": 31,
   "metadata": {},
   "outputs": [],
   "source": [
    "def display_data (filepath):\n",
    "    data_lst = Dataset(filepath, 'r')\n",
    "    sns.load_dataset()"
   ]
  },
  {
   "cell_type": "code",
   "execution_count": null,
   "metadata": {},
   "outputs": [],
   "source": [
    "results = Dataset('/home/yuan/Documents/Spring-2018/Senior Design/Weather/Satellite-data/goes13.2017.182.001519.BAND_01 (1).nc', 'r')\n",
    "print(results.variables['data'].type)\n",
    "np_data = (np.array(results.variables['data']))[0]\n",
    "print(np_data.shape)\n",
    "\n"
   ]
  },
  {
   "cell_type": "code",
   "execution_count": null,
   "metadata": {},
   "outputs": [],
   "source": [
    "\n",
    "nasa_data = Dataset('/home/yuan/Downloads/daymet_v3_tmax_monavg_2016_na (1).nc4')\n",
    "print(nasa_data)\n",
    "\n",
    "nasa_np = np.array(nasa_data['y'])\n",
    "print(nasa_np) \n",
    "\n",
    "#ax = sns.heatmap(nasa_np)\n"
   ]
  }
 ],
 "metadata": {
  "kernelspec": {
   "display_name": "Python 3",
   "language": "python",
   "name": "python3"
  },
  "language_info": {
   "codemirror_mode": {
    "name": "ipython",
    "version": 3
   },
   "file_extension": ".py",
   "mimetype": "text/x-python",
   "name": "python",
   "nbconvert_exporter": "python",
   "pygments_lexer": "ipython3",
   "version": "3.6.3"
  }
 },
 "nbformat": 4,
 "nbformat_minor": 2
}
