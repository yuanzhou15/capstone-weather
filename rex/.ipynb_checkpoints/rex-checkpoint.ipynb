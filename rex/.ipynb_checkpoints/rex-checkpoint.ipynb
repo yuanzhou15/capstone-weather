{
 "cells": [
  {
   "cell_type": "markdown",
   "metadata": {},
   "source": [
    "# Explore the Radar Data!\n",
    "The Radar Data has to be uncompressed before it can be explored.\n",
    "This is done on a unix system via the following commands:\n",
    "\n",
    "tar -xvf radaryyyyx.tar\n",
    "\n",
    "gunzip radar.yyyymmdd.hh.dat.gz\n",
    "\n",
    "Once all the data is in a nice folder in the same directory as this jupyter notebook, the fun can begin!"
   ]
  },
  {
   "cell_type": "code",
   "execution_count": null,
   "metadata": {
    "collapsed": true
   },
   "outputs": [],
   "source": [
    "# The usual import suspects!\n",
    "import numpy as np\n",
    "import matplotlib.pyplot as plt\n",
    "%matplotlib inline\n",
    "from netCDF4 import Dataset\n",
    "import pandas as pd\n",
    "from mpl_toolkits.mplot3d import Axes3D"
   ]
  },
  {
   "cell_type": "markdown",
   "metadata": {},
   "source": [
    "# A useful function!\n",
    "The following function was given to us by the managers of the radar data.\n"
   ]
  },
  {
   "cell_type": "code",
   "execution_count": null,
   "metadata": {
    "collapsed": true
   },
   "outputs": [],
   "source": [
    "def data_read_display(filename):\n",
    "    \"\"\" \n",
    "\twhen passed the full filename (path plus filename) of a deep learning dataset\n",
    "\tThis function reads the binary data and rescales it\n",
    "\treforms it from vector into array of the proper size\n",
    "\trails the data off at suggested maximum and minimum values\n",
    "\tdisplays the data based on style, where style is cmap=style\n",
    "    \"\"\"\n",
    "    dims = (126,201)   # rows, columns\n",
    "\n",
    "    minmax = [0,30]\t# suggested data limits for display purposes\n",
    "    \n",
    "    # set minmax = [0,0] to use minimum and maximum of each file (excluding missing data)\n",
    "    # [0,30] mm/hr is a good range for rainfall\n",
    "\n",
    "    data = np.fromfile(filename,dtype='int16',count=-1,sep='') # 2 byte integers\n",
    "    print('size of read vector',len(data))\n",
    "    data = np.reshape(data,dims)\n",
    "\n",
    "    if (np.max(data) > 0):\n",
    "\n",
    "        # scale data to between 0 and 1 then rail off the extremes\n",
    "        if (minmax[0] > 0 or minmax[1] > 0):\n",
    "            data = (data - minmax[0])/(minmax[1] - minmax[0])\n",
    "            data[(data < minmax[0])] = minmax[0]\n",
    "            data[(data > minmax[1])] = minmax[1]\n",
    "        else:\n",
    "            data = (data - np.min(data))/(np.max(data) - np.min(data))\n",
    "\n",
    "    else:\n",
    "        print('empty hour!')\n",
    "\n",
    "    # display image as grayscale\n",
    "    plt.ion()  # needed if running from command line\n",
    "    plt.title(\"2008 June 1st- 2 AM\")\n",
    "    plt.imshow(data, cmap=\"Paired\", origin='lower')"
   ]
  },
  {
   "cell_type": "code",
   "execution_count": null,
   "metadata": {},
   "outputs": [],
   "source": [
    "# let's look at our very first data file- june 1, 2008 midnight\n",
    "data_read_display(\"radar_data/radar2008a/radar.20080601.02.dat\")"
   ]
  },
  {
   "cell_type": "code",
   "execution_count": null,
   "metadata": {
    "collapsed": true
   },
   "outputs": [],
   "source": [
    "def data_read_return(filename):\n",
    "    \"\"\"\n",
    "    filename should be a string with the filepath to the\n",
    "    .dat file to be rescaled and returned as an np array\n",
    "    \"\"\"\n",
    "    \n",
    "    dims = (126,201) # rows, columns\n",
    "    minmax = [0,30] # suggested data limits for display purposes\n",
    "    \n",
    "    # set minmax = [0,0] to use minimum and maximum of each file (excluding missing data)\n",
    "    # [0,30] mm/hr is a good range for rainfall\n",
    "\n",
    "    data = np.fromfile(filename,dtype='int16',count=-1,sep='') # 2 byte integers\n",
    "    # print('size of read vector',len(data))\n",
    "    data = np.reshape(data,dims)\n",
    "        \n",
    "    return data"
   ]
  },
  {
   "cell_type": "code",
   "execution_count": null,
   "metadata": {},
   "outputs": [],
   "source": [
    "data = data_read_return(\"radar_data/radar2008a/radar.20080601.00.dat\")\n",
    "print(data)\n",
    "print(np.min(data))\n",
    "print(np.max(data))\n",
    "print(np.mean(data))\n",
    "print(np.median(data))"
   ]
  },
  {
   "cell_type": "code",
   "execution_count": null,
   "metadata": {
    "collapsed": true
   },
   "outputs": [],
   "source": [
    "def filepath_list(part_filepath, num_of_days):\n",
    "    \"\"\"\n",
    "    part_filename: This string takes the initial pathing of the file up to the month, not the entire path\n",
    "    num_of_days: This integer should be the number of days in the particular filepath month\n",
    "    This function returns a list of file's with the appropriate endings for the radar data.\n",
    "    \"\"\"\n",
    "    list_ = []\n",
    "    s = \"\" # string\n",
    "    for day in range(num_of_days): # 30 days in june \n",
    "        for hour in range(24): # 24 hours per day\n",
    "            if (day < 10 and hour < 10):\n",
    "                s = part_filepath + \"0\" + str(day+1) + \".0\" + str(hour) + \".dat\" \n",
    "            elif (day < 10 and hour >= 10):\n",
    "                s = part_filepath + \"0\" + str(day+1) + \".\" + str(hour) + \".dat\"\n",
    "            elif (day >= 10 & hour < 10):\n",
    "                s = part_filepath + str(day+1) + \".0\" + str(hour) + \".dat\"\n",
    "            else:\n",
    "                s = part_filepath + str(day+1) + \".\" + str(hour) + \".dat\"\n",
    "            list_.append(s)\n",
    "    return list_"
   ]
  },
  {
   "cell_type": "code",
   "execution_count": null,
   "metadata": {},
   "outputs": [],
   "source": [
    "june_2008 = filepath_list(\"radar_data/radar2008a/radar.200806\", 30)\n",
    "print(june_2008)"
   ]
  },
  {
   "cell_type": "code",
   "execution_count": null,
   "metadata": {
    "collapsed": true
   },
   "outputs": [],
   "source": [
    "def file_list_data(filepath_list):\n",
    "    \"\"\"\n",
    "    filepath_list: This list of strings should contain the filepath's to the particular month of radar data\n",
    "    This function returns a 3D numpy array of the data. \n",
    "    The first two dimensions contain the data on that particular hour of that particular day.\n",
    "    The third dimension corresponds to which particular hour of that month to view\n",
    "    \"\"\" "
   ]
  },
  {
   "cell_type": "code",
   "execution_count": null,
   "metadata": {},
   "outputs": [],
   "source": [
    "datas = [] # empty list\n",
    "for path in paths: # go through the list of filepaths\n",
    "    datas.append(data_read_return(path))"
   ]
  },
  {
   "cell_type": "code",
   "execution_count": null,
   "metadata": {},
   "outputs": [],
   "source": [
    "datas"
   ]
  },
  {
   "cell_type": "code",
   "execution_count": null,
   "metadata": {},
   "outputs": [],
   "source": [
    "plt.imshow(datas[0], cmap=\"Paired\", origin='lower')"
   ]
  },
  {
   "cell_type": "code",
   "execution_count": null,
   "metadata": {},
   "outputs": [],
   "source": [
    "plt.imshow(datas[1], cmap=\"Paired\", origin='lower')"
   ]
  },
  {
   "cell_type": "code",
   "execution_count": null,
   "metadata": {},
   "outputs": [],
   "source": [
    "np.min(datas[0])"
   ]
  },
  {
   "cell_type": "code",
   "execution_count": null,
   "metadata": {},
   "outputs": [],
   "source": [
    "np.max(datas[0])"
   ]
  },
  {
   "cell_type": "code",
   "execution_count": null,
   "metadata": {},
   "outputs": [],
   "source": [
    "np.mean(datas[0])"
   ]
  },
  {
   "cell_type": "code",
   "execution_count": null,
   "metadata": {},
   "outputs": [],
   "source": [
    "np.shape(datas[0])"
   ]
  },
  {
   "cell_type": "code",
   "execution_count": null,
   "metadata": {},
   "outputs": [],
   "source": [
    "plt.hist(datas[0])\n",
    "plt.show()"
   ]
  },
  {
   "cell_type": "code",
   "execution_count": null,
   "metadata": {},
   "outputs": [],
   "source": [
    "plt.hist(datas[0], bins=5)\n",
    "plt.show()"
   ]
  },
  {
   "cell_type": "code",
   "execution_count": null,
   "metadata": {},
   "outputs": [],
   "source": [
    "plt.hist(datas[1], bins=5)\n",
    "plt.show()"
   ]
  },
  {
   "cell_type": "code",
   "execution_count": null,
   "metadata": {},
   "outputs": [],
   "source": [
    "plt.hist(datas[2], bins=5)\n",
    "plt.show()"
   ]
  },
  {
   "cell_type": "code",
   "execution_count": null,
   "metadata": {},
   "outputs": [],
   "source": [
    "plt.imshow(datas[0], cmap=\"Paired\", origin='lower')"
   ]
  },
  {
   "cell_type": "code",
   "execution_count": null,
   "metadata": {},
   "outputs": [],
   "source": [
    "plt.imshow(datas[1], cmap=\"Paired\", origin='lower')"
   ]
  },
  {
   "cell_type": "code",
   "execution_count": null,
   "metadata": {},
   "outputs": [],
   "source": [
    "plt.imshow(datas[2], cmap=\"Paired\", origin='lower')"
   ]
  },
  {
   "cell_type": "code",
   "execution_count": null,
   "metadata": {},
   "outputs": [],
   "source": [
    "plt.imshow(datas[3], cmap=\"Paired\", origin='lower')"
   ]
  },
  {
   "cell_type": "code",
   "execution_count": null,
   "metadata": {},
   "outputs": [],
   "source": [
    "plt.imshow(datas[4], cmap=\"Paired\", origin='lower')"
   ]
  },
  {
   "cell_type": "code",
   "execution_count": null,
   "metadata": {},
   "outputs": [],
   "source": [
    "plt.imshow(datas[5], cmap=\"Paired\", origin='lower')"
   ]
  },
  {
   "cell_type": "code",
   "execution_count": null,
   "metadata": {},
   "outputs": [],
   "source": [
    "plt.imshow(datas[6], cmap=\"Paired\", origin='lower')"
   ]
  },
  {
   "cell_type": "code",
   "execution_count": null,
   "metadata": {},
   "outputs": [],
   "source": [
    "plt.imshow(datas[7], cmap=\"Paired\", origin='lower')"
   ]
  },
  {
   "cell_type": "code",
   "execution_count": null,
   "metadata": {},
   "outputs": [],
   "source": [
    "plt.imshow(datas[8], cmap=\"Paired\", origin='lower')"
   ]
  },
  {
   "cell_type": "code",
   "execution_count": null,
   "metadata": {},
   "outputs": [],
   "source": [
    "plt.imshow(datas[9], cmap=\"Paired\", origin='lower')"
   ]
  },
  {
   "cell_type": "code",
   "execution_count": null,
   "metadata": {},
   "outputs": [],
   "source": [
    "plt.imshow(datas[10], cmap=\"Paired\", origin='lower')"
   ]
  },
  {
   "cell_type": "code",
   "execution_count": null,
   "metadata": {},
   "outputs": [],
   "source": [
    "plt.imshow(datas[11], cmap=\"Paired\", origin='lower')"
   ]
  },
  {
   "cell_type": "code",
   "execution_count": null,
   "metadata": {},
   "outputs": [],
   "source": [
    "ims = []\n",
    "for i in range(len(datas)):\n",
    "    ims.append(plt.imshow(datas[i], cmap=\"Paired\", origin='lower', animated=True))\n",
    "\n",
    "fig = plt.figure(figsize=(126,201))\n",
    "ami = animation.ArtistAnimation(fig, ims, interval=50, blit=True, repeat_delay=1000)"
   ]
  },
  {
   "cell_type": "code",
   "execution_count": null,
   "metadata": {},
   "outputs": [],
   "source": [
    "datas[0]"
   ]
  },
  {
   "cell_type": "code",
   "execution_count": null,
   "metadata": {},
   "outputs": [],
   "source": [
    "print(type(datas[0]))"
   ]
  },
  {
   "cell_type": "code",
   "execution_count": null,
   "metadata": {},
   "outputs": [],
   "source": [
    "nc_f = 'satellite_data/goes13.2017.182.001519.BAND_01.nc'  # Your filename\n",
    "nc_fid = Dataset(nc_f, 'r')  # Dataset is the class behavior to open the file\n",
    "                             # and create an instance of the ncCDF4 class\n",
    "#print(nc_fid.file_format)\n",
    "print(nc_fid)\n",
    "\n",
    "data = nc_fid.variables\n",
    "nc_fid.close()"
   ]
  },
  {
   "cell_type": "code",
   "execution_count": null,
   "metadata": {},
   "outputs": [],
   "source": [
    "filename = \"radar_data/radar2008a/radar.20080601.01.dat\"\n",
    "\n",
    "dims = (126,201)   # rows, columns\n",
    "minmax = [0,30]\t# suggested data limits for display purposes\n",
    "\n",
    "# set minmax = [0,0] to use minimum and maximum of each file (excluding missing data)\n",
    "# [0,30] mm/hr is a good range for rainfall\n",
    "\n",
    "data = np.fromfile(filename,dtype='int16',count=-1,sep='') # 2 byte integers\n",
    "print('size of read vector',len(data))\n",
    "data = np.reshape(data,dims)\n",
    "\n",
    "if (np.max(data) > 0):\n",
    "\n",
    "    # scale data to between 0 and 1 then rail off the extremes\n",
    "    if (minmax[0] > 0 or minmax[1] > 0):\n",
    "        data = (data - minmax[0])/(minmax[1] - minmax[0])\n",
    "        data[(data < minmax[0])] = minmax[0]\n",
    "        data[(data > minmax[1])] = minmax[1]\n",
    "    else:\n",
    "        data = (data - np.min(data))/(np.max(data) - np.min(data))\n",
    "\n",
    "else:\n",
    "    print('empty hour!')\n",
    "\n",
    "# display image as grayscale\n",
    "plt.ion()  # needed if running from command line\n",
    "plt.imshow(data, cmap=\"Paired\", origin='lower')\n",
    "\n",
    "print(data)"
   ]
  },
  {
   "cell_type": "code",
   "execution_count": null,
   "metadata": {},
   "outputs": [],
   "source": [
    "nc_f = 'satellite_data/goes13.2017.182.001519.BAND_01.nc'  # Your filename\n",
    "band_01 = Dataset(nc_f, 'r')  # Dataset is the class behavior to open the file\n",
    "                             # and create an instance of the ncCDF4 class\n",
    "print(band_01)\n",
    "#print(nc_fid)\n",
    "data = band_01.variables['data'][:]\n",
    "print(data[0])\n",
    "print(np.min(data[0]))\n",
    "print(np.max(data[0]))\n",
    "print(np.mean(data[0]))\n",
    "print(np.median(data[0]))\n",
    "plt.title(\"2017 Day: 182 00:15:19 AM\")\n",
    "plt.imshow(data[0], cmap=\"gray\", origin=\"lower\")\n",
    "band_01.close()"
   ]
  },
  {
   "cell_type": "code",
   "execution_count": null,
   "metadata": {},
   "outputs": [],
   "source": [
    "nc_f = 'satellite_data/goes13.2017.182.001519.BAND_02.nc'  # Your filename\n",
    "band_01 = Dataset(nc_f, 'r')  # Dataset is the class behavior to open the file\n",
    "                             # and create an instance of the ncCDF4 class\n",
    "#print(nc_fid.file_format)\n",
    "#print(nc_fid)\n",
    "data = band_01.variables['data'][:]\n",
    "print(data[0])\n",
    "plt.imshow(data[0], cmap=\"gray\", origin=\"lower\")\n",
    "nc_fid.close()"
   ]
  },
  {
   "cell_type": "code",
   "execution_count": null,
   "metadata": {},
   "outputs": [],
   "source": [
    "nc_f = 'satellite_data/goes13.2017.182.001519.BAND_03.nc'  # Your filename\n",
    "band_01 = Dataset(nc_f, 'r')  # Dataset is the class behavior to open the file\n",
    "                             # and create an instance of the ncCDF4 class\n",
    "#print(nc_fid.file_format)\n",
    "#print(nc_fid)\n",
    "data = band_01.variables['data'][:]\n",
    "print(data[0])\n",
    "plt.imshow(data[0], cmap=\"gray\", origin=\"lower\")\n",
    "nc_fid.close()"
   ]
  },
  {
   "cell_type": "code",
   "execution_count": null,
   "metadata": {},
   "outputs": [],
   "source": [
    "nc_f = 'satellite_data/goes13.2017.182.001519.BAND_06.nc'  # Your filename\n",
    "band_01 = Dataset(nc_f, 'r')  # Dataset is the class behavior to open the file\n",
    "                             # and create an instance of the ncCDF4 class\n",
    "#print(nc_fid.file_format)\n",
    "#print(nc_fid)\n",
    "data = band_01.variables['data'][:]\n",
    "print(data[0])\n",
    "plt.imshow(data[0], cmap=\"gray\", origin=\"lower\")\n",
    "band_01.close()"
   ]
  },
  {
   "cell_type": "code",
   "execution_count": null,
   "metadata": {},
   "outputs": [],
   "source": [
    "for row in range(100):\n",
    "    for col in range(50):\n",
    "        plt.scatter(row, col, s=data)\n",
    "plt.show()"
   ]
  },
  {
   "cell_type": "code",
   "execution_count": null,
   "metadata": {
    "collapsed": true
   },
   "outputs": [],
   "source": []
  }
 ],
 "metadata": {
  "kernelspec": {
   "display_name": "Python 3",
   "language": "python",
   "name": "python3"
  },
  "language_info": {
   "codemirror_mode": {
    "name": "ipython",
    "version": 3
   },
   "file_extension": ".py",
   "mimetype": "text/x-python",
   "name": "python",
   "nbconvert_exporter": "python",
   "pygments_lexer": "ipython3",
   "version": "3.6.3"
  }
 },
 "nbformat": 4,
 "nbformat_minor": 2
}
