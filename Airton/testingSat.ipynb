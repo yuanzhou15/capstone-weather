{
 "cells": [
  {
   "cell_type": "code",
   "execution_count": null,
   "metadata": {
    "collapsed": true
   },
   "outputs": [],
   "source": [
    "from netCDF4 import Dataset # This is the package you just got\n",
    "import numpy as np # just import it\n",
    "import matplotlib.pyplot as plt # simple display\n",
    "%matplotlib inline"
   ]
  },
  {
   "cell_type": "code",
   "execution_count": null,
   "metadata": {
    "collapsed": true
   },
   "outputs": [],
   "source": [
    "def sat_display(filepath, style='gray'):\n",
    "    \"\"\"\n",
    "    filepath is just the path to the satellite data ending in extension \".nc\"\n",
    "    style is just a variable used for cmap. It is defaulted to \"gray\" for grayscale images.\n",
    "    This function displays the image hidden inside the file\n",
    "    \"\"\"\n",
    "    \n",
    "    nc_fid = Dataset(filepath, 'r') # \"opening\" the satellite data file \n",
    "    #print(nc_fid) # this should print out all the information of the file, similar to a pandas dataframe\n",
    "    data = nc_fid.variables['data'][:] # extracting the data we want from the file\n",
    "    #print(data) # this should print out a 3D array where data(time, y, x)\n",
    "    # time has size 1 in this case so we can easily get a 2D array by using data[0]\n",
    "    plt.imshow(data[0], cmap=style, origin='lower')\n",
    "    nc_fid.close() # closing the file after using it"
   ]
  },
  {
   "cell_type": "code",
   "execution_count": null,
   "metadata": {},
   "outputs": [],
   "source": [
    "nc_f = '/Users/Airton/SeniorDesign1/Satellite/goes13.2017.182.001519.BAND_01.nc' # filepath\n",
    "sat_display(nc_f)"
   ]
  },
  {
   "cell_type": "code",
   "execution_count": null,
   "metadata": {},
   "outputs": [],
   "source": [
    "nc_f = '/Users/Airton/SeniorDesign1/Satellite/goes13.2017.182.001519.BAND_02.nc' # filepath\n",
    "sat_display(nc_f)"
   ]
  },
  {
   "cell_type": "code",
   "execution_count": null,
   "metadata": {
    "collapsed": true
   },
   "outputs": [],
   "source": []
  }
 ],
 "metadata": {
  "kernelspec": {
   "display_name": "Python 3",
   "language": "python",
   "name": "python3"
  },
  "language_info": {
   "codemirror_mode": {
    "name": "ipython",
    "version": 3
   },
   "file_extension": ".py",
   "mimetype": "text/x-python",
   "name": "python",
   "nbconvert_exporter": "python",
   "pygments_lexer": "ipython3",
   "version": "3.6.3"
  }
 },
 "nbformat": 4,
 "nbformat_minor": 2
}
